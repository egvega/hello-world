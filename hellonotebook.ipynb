import numpy as np
print np.zeros(10)
#nothing to declare  
